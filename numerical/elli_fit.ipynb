{
 "cells": [
  {
   "cell_type": "code",
   "execution_count": 1,
   "id": "083ac616-40d8-4c2f-a4d3-2754dab6a8ae",
   "metadata": {},
   "outputs": [],
   "source": [
    "# Ellipsoid fitting\n",
    "# I. Markovsky, et al. \"Consistent least squares fitting of ellipsoids.\" DOI: 10.1007/s00211-004-0526-9\n",
    "\n",
    "using GLMakie\n",
    "GLMakie.activate!()"
   ]
  },
  {
   "cell_type": "code",
   "execution_count": null,
   "id": "82a6363e-0349-4d89-8efe-1377485e9d02",
   "metadata": {},
   "outputs": [
    {
     "name": "stdout",
     "output_type": "stream",
     "text": [
      "[1.3721090533638591 -0.3909140539358579 -0.9735562825007493; -0.3909140539358579 1.2010524776232654 0.6203651813525524; -0.9735562825007492"
     ]
    }
   ],
   "source": [
    "A = [1 0.2 0.4; -0.1 1 -0.1; 0.3 -0.2 0.95]\n",
    "c = [0.3; 0.5; -0.2]\n",
    "println(inv(A * A'))\n",
    "\n",
    "σ = 0.05\n",
    "\n",
    "N = 3\n",
    "M = 300\n",
    "X = Array{Float64}(undef, N, M)\n",
    "\n",
    "using Random\n",
    "rng = Xoshiro(240120)\n",
    "for i = 1:M\n",
    "  θ = rand(rng, Float64) * π\n",
    "  ϕ = rand(rng, Float64) * 2π\n",
    "  p = A * [sin(θ) * cos(ϕ); sin(θ) * sin(ϕ); cos(θ)] + c\n",
    "  e = [randn(rng, Float64); randn(rng, Float64); randn(rng, Float64)] * σ\n",
    "  X[:, i] = p + e\n",
    "  # println((p-c)' * inv(A * A') * (p-c))\n",
    "end\n",
    "\n",
    "fig = Figure(size = (1200, 720))\n",
    "ax = Axis3(fig[1, 1])\n",
    "scatter!(ax, X)\n",
    "display(fig)"
   ]
  },
  {
   "cell_type": "code",
   "execution_count": null,
   "id": "1a76c13c-0895-4bb3-9aed-98d7a115b3e6",
   "metadata": {},
   "outputs": [],
   "source": [
    "function t(k, ξ)\n",
    "  if k == 0; 1\n",
    "  elseif k == 1; ξ\n",
    "  elseif k == 2; ξ^2 - σ^2\n",
    "  elseif k == 3; ξ^3 - 3*ξ*σ^2\n",
    "  elseif k == 4; ξ^4 - 6*ξ^2*σ^2 + 3*σ^4\n",
    "  end\n",
    "end\n",
    "\n",
    "T = Array{Float64}(undef, 5, N, M)\n",
    "for k = 0:4\n",
    "  for i = 1:N\n",
    "    for l = 1:M\n",
    "      T[k+1, i, l] = t(k, X[i, l])\n",
    "    end\n",
    "  end\n",
    "end\n",
    "T"
   ]
  },
  {
   "cell_type": "code",
   "execution_count": null,
   "id": "939140f4-2830-4616-b70e-3d3d5c81e8e0",
   "metadata": {},
   "outputs": [],
   "source": [
    "function vec_s(A)\n",
    "  v = Any[]\n",
    "  N = size(A, 1)\n",
    "  for j = 1:N\n",
    "    for i = 1:j\n",
    "      push!(v, A[i, j])\n",
    "    end\n",
    "  end\n",
    "  println(A)\n",
    "  v\n",
    "end\n",
    "\n",
    "Nβ = (N+1) * N ÷ 2 + N + 1\n",
    "V1 = fill(1, N+1)\n",
    "Vi = [i % (N+1) for i in 1:N+1]\n",
    "MM = hcat(vec_s(Vi * V1'), vec_s(V1 * Vi'))"
   ]
  },
  {
   "cell_type": "code",
   "execution_count": null,
   "id": "4a3a257a-2f65-42f2-8ca0-f749c885be5d",
   "metadata": {},
   "outputs": [],
   "source": [
    "R = zeros(Int, Nβ, Nβ, N)\n",
    "for p = 1:Nβ\n",
    "  for q = p:Nβ\n",
    "    for i = 1:N\n",
    "      R[p, q, i] = Int.(MM[p, 1] == i) + Int.(MM[p, 2] == i) +\n",
    "                   Int.(MM[q, 1] == i) + Int.(MM[q, 2] == i)\n",
    "    end\n",
    "  end\n",
    "end\n",
    "R"
   ]
  },
  {
   "cell_type": "code",
   "execution_count": null,
   "id": "ec19ae5f-d867-4d6e-824a-a7ba896aaa56",
   "metadata": {},
   "outputs": [],
   "source": [
    "η_als = zeros(Float64, Nβ, Nβ)\n",
    "for p = 1:Nβ\n",
    "  for q = p:Nβ\n",
    "    η_als[p, q] = sum(l -> prod(i -> T[R[p, q, i]+1, i, l], 1:N), 1:M)\n",
    "  end\n",
    "end\n",
    "η_als"
   ]
  },
  {
   "cell_type": "code",
   "execution_count": null,
   "id": "c0955022-2f9c-4182-bb32-6b19fc033448",
   "metadata": {},
   "outputs": [],
   "source": [
    "D = [x for x in 1:(N*(N+1)÷2) if !isinteger(sqrt(8x + 1))]\n",
    "\n",
    "Ψ_als = zeros(Float64, Nβ, Nβ)\n",
    "for p = 1:Nβ\n",
    "  for q = p:Nβ\n",
    "    Ψ_als[p, q] = η_als[p, q] * (1 + Int.(p in D)) * (1 + Int.(q in D))\n",
    "  end\n",
    "end\n",
    "for p = 2:Nβ\n",
    "  for q = 1:p-1\n",
    "    Ψ_als[p, q] = Ψ_als[q, p]\n",
    "  end\n",
    "end\n",
    "Ψ_als"
   ]
  },
  {
   "cell_type": "code",
   "execution_count": null,
   "id": "dee31a15-bf5f-4ff8-ab76-568fee02d8f7",
   "metadata": {},
   "outputs": [],
   "source": [
    "using LinearAlgebra\n",
    "λ, v = eigen(Ψ_als)\n",
    "β_als = normalize(v[:, 1])"
   ]
  },
  {
   "cell_type": "code",
   "execution_count": null,
   "id": "1b307109-fbf1-4fe1-a754-4c5ad7dc6056",
   "metadata": {},
   "outputs": [],
   "source": [
    "function vec_s_inv(v)\n",
    "  local Nβ, N, A, k\n",
    "  Nβ = size(v, 1)\n",
    "  N = Int.((sqrt(8Nβ + 1) - 1) / 2)\n",
    "  A = Array{Float64}(undef, N, N)\n",
    "  k = 1\n",
    "  for j = 1:N\n",
    "    for i = 1:j\n",
    "      A[i, j] = v[k]\n",
    "      A[j, i] = v[k]\n",
    "      k += 1\n",
    "    end\n",
    "  end\n",
    "  A\n",
    "end\n",
    "\n",
    "A_est = vec_s_inv(β_als[1 : N*(N+1)÷2])\n",
    "b_est = β_als[N*(N+1)÷2+1 : Nβ-1]\n",
    "d_est = β_als[Nβ]\n",
    "A_est, b_est, d_est"
   ]
  },
  {
   "cell_type": "code",
   "execution_count": null,
   "id": "236d506e-1a32-4625-ad6b-8dc865d9981e",
   "metadata": {},
   "outputs": [],
   "source": [
    "c_est = -0.5 * inv(A_est) * b_est\n",
    "AA_est = A_est / (c_est' * A_est * c_est - d_est)\n",
    "\n",
    "c_est, AA_est"
   ]
  }
 ],
 "metadata": {
  "kernelspec": {
   "display_name": "Julia 1.10.0",
   "language": "julia",
   "name": "julia-1.10"
  },
  "language_info": {
   "file_extension": ".jl",
   "mimetype": "application/julia",
   "name": "julia",
   "version": "1.10.0"
  }
 },
 "nbformat": 4,
 "nbformat_minor": 5
}
